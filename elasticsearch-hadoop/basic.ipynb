{
 "cells": [
  {
   "cell_type": "markdown",
   "id": "ed50c011-d9a0-4415-beee-42b57276fed6",
   "metadata": {},
   "source": [
    "## Ejemplo Completo para Indexar Documentos desde PySpark a Elasticsearch\n",
    "Supongamos que tienes una colección de datos que deseas indexar en Elasticsearch. Aquí está el código completo que puedes ejecutar en un Jupyter Notebook:"
   ]
  },
  {
   "cell_type": "code",
   "execution_count": 1,
   "id": "702f01fb-ff82-4233-b460-1380941aa613",
   "metadata": {},
   "outputs": [],
   "source": [
    "from pyspark.sql import SparkSession\n",
    "\n",
    "# Iniciar Spark Session\n",
    "spark = SparkSession.builder \\\n",
    "    .appName(\"PySpark Elasticsearch Integration\") \\\n",
    "    .config(\"spark.es.nodes\", \"elasticsearch\") \\\n",
    "    .config(\"spark.es.port\", \"9200\") \\\n",
    "    .config(\"spark.es.nodes.wan.only\", \"true\") \\\n",
    "    .getOrCreate()\n",
    "\n",
    "# Supongamos que tienes algunos datos de ejemplo\n",
    "data = [(\"1\", \"Text for document one\"), (\"2\", \"Text for document two\"), (\"3\", \"Text for document three\")]\n",
    "columns = [\"id\", \"doc_text\"]\n",
    "\n",
    "# Crear un DataFrame\n",
    "df = spark.createDataFrame(data, schema=columns)\n",
    "\n",
    "# Especificar el índice de Elasticsearch donde se indexarán los datos\n",
    "index_name = \"documents\"\n",
    "\n",
    "# Escribir el DataFrame a Elasticsearch\n",
    "df.write.format(\"org.elasticsearch.spark.sql\") \\\n",
    "    .option(\"es.resource\", f\"{index_name}/_doc\") \\\n",
    "    .mode(\"append\") \\\n",
    "    .save()\n",
    "\n",
    "# Detener la sesión Spark\n",
    "spark.stop()\n"
   ]
  },
  {
   "cell_type": "markdown",
   "id": "b16f7e70-9b82-4c96-a2d7-748324fe84d1",
   "metadata": {},
   "source": [
    "## Leer Datos desde Elasticsearch en PySpark\n",
    "Para leer datos desde Elasticsearch de vuelta a un DataFrame de PySpark, puedes usar el siguiente código:"
   ]
  },
  {
   "cell_type": "code",
   "execution_count": 2,
   "id": "e8f09970-f15b-4652-af14-5b62b554058e",
   "metadata": {},
   "outputs": [
    {
     "name": "stdout",
     "output_type": "stream",
     "text": [
      "+--------------------+---+\n",
      "|            doc_text| id|\n",
      "+--------------------+---+\n",
      "|Text for document...|  2|\n",
      "|Text for document...|  1|\n",
      "|Text for document...|  3|\n",
      "+--------------------+---+\n",
      "\n"
     ]
    }
   ],
   "source": [
    "from pyspark.sql import SparkSession\n",
    "\n",
    "# Iniciar Spark Session\n",
    "spark = SparkSession.builder \\\n",
    "    .appName(\"PySpark Read from Elasticsearch\") \\\n",
    "    .config(\"spark.es.nodes\", \"elasticsearch\") \\\n",
    "    .config(\"spark.es.port\", \"9200\") \\\n",
    "    .config(\"spark.es.nodes.wan.only\", \"true\") \\\n",
    "    .getOrCreate()\n",
    "\n",
    "# Leer datos desde el índice de Elasticsearch\n",
    "index_name = \"documents\"\n",
    "df = spark.read.format(\"org.elasticsearch.spark.sql\") \\\n",
    "    .option(\"es.resource\", f\"{index_name}/_doc\") \\\n",
    "    .load()\n",
    "\n",
    "# Mostrar los datos\n",
    "df.show()\n",
    "\n",
    "# Detener la sesión Spark\n",
    "spark.stop()\n"
   ]
  }
 ],
 "metadata": {
  "kernelspec": {
   "display_name": "Python 3 (ipykernel)",
   "language": "python",
   "name": "python3"
  },
  "language_info": {
   "codemirror_mode": {
    "name": "ipython",
    "version": 3
   },
   "file_extension": ".py",
   "mimetype": "text/x-python",
   "name": "python",
   "nbconvert_exporter": "python",
   "pygments_lexer": "ipython3",
   "version": "3.11.6"
  }
 },
 "nbformat": 4,
 "nbformat_minor": 5
}
